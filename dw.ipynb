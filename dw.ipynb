{
 "cells": [
  {
   "cell_type": "code",
   "execution_count": 61,
   "metadata": {},
   "outputs": [],
   "source": [
    "%matplotlib inline\n",
    "import matplotlib\n",
    "import seaborn as sns\n",
    "sns.set()\n",
    "matplotlib.rcParams['figure.dpi'] = 144"
   ]
  },
  {
   "cell_type": "code",
   "execution_count": 7,
   "metadata": {},
   "outputs": [],
   "source": [
    "from static_grader import grader"
   ]
  },
  {
   "cell_type": "markdown",
   "metadata": {},
   "source": [
    "# DW Miniproject\n",
    "## Introduction\n",
    "\n",
    "The objective of this miniproject is to exercise your ability to wrangle tabular data set and aggregate large data sets into meaningful summary statistics. We will be working with the same medical data used in the `pw` miniproject, but will be leveraging the power of Pandas to more efficiently represent and act on our data."
   ]
  },
  {
   "cell_type": "markdown",
   "metadata": {},
   "source": [
    "## Downloading the data\n",
    "\n",
    "We first need to download the data we'll be using from Amazon S3:"
   ]
  },
  {
   "cell_type": "code",
   "execution_count": 169,
   "metadata": {},
   "outputs": [
    {
     "name": "stdout",
     "output_type": "stream",
     "text": [
      "mkdir: cannot create directory ‘dw-data’: File exists\n",
      "--2019-06-09 07:27:21--  http://dataincubator-wqu.s3.amazonaws.com/dwdata/201701scripts_sample.csv.gz\n",
      "Resolving dataincubator-wqu.s3.amazonaws.com (dataincubator-wqu.s3.amazonaws.com)... 52.216.237.131\n",
      "Connecting to dataincubator-wqu.s3.amazonaws.com (dataincubator-wqu.s3.amazonaws.com)|52.216.237.131|:80... connected.\n",
      "HTTP request sent, awaiting response... 200 OK\n",
      "Length: 19011654 (18M) [text/csv]\n",
      "Saving to: ‘./dw-data/201701scripts_sample.csv.gz’\n",
      "\n",
      "201701scripts_sampl 100%[===================>]  18.13M  40.6MB/s    in 0.4s    \n",
      "\n",
      "2019-06-09 07:27:21 (40.6 MB/s) - ‘./dw-data/201701scripts_sample.csv.gz’ saved [19011654/19011654]\n",
      "\n",
      "File ‘./dw-data/201606scripts_sample.csv.gz’ already there; not retrieving.\n",
      "\n",
      "--2019-06-09 07:27:22--  http://dataincubator-wqu.s3.amazonaws.com/dwdata/practices.csv.gz\n",
      "Resolving dataincubator-wqu.s3.amazonaws.com (dataincubator-wqu.s3.amazonaws.com)... 52.216.237.131\n",
      "Connecting to dataincubator-wqu.s3.amazonaws.com (dataincubator-wqu.s3.amazonaws.com)|52.216.237.131|:80... connected.\n",
      "HTTP request sent, awaiting response... 200 OK\n",
      "Length: 333225 (325K) [application/x-gzip]\n",
      "Saving to: ‘./dw-data/practices.csv.gz’\n",
      "\n",
      "practices.csv.gz    100%[===================>] 325.42K  --.-KB/s    in 0.02s   \n",
      "\n",
      "2019-06-09 07:27:22 (15.6 MB/s) - ‘./dw-data/practices.csv.gz’ saved [333225/333225]\n",
      "\n",
      "File ‘./dw-data/chem.csv.gz’ already there; not retrieving.\n",
      "\n"
     ]
    }
   ],
   "source": [
    "!mkdir dw-data\n",
    "!wget http://dataincubator-wqu.s3.amazonaws.com/dwdata/201701scripts_sample.csv.gz -nc -P ./dw-data/\n",
    "!wget http://dataincubator-wqu.s3.amazonaws.com/dwdata/201606scripts_sample.csv.gz -nc -P ./dw-data/\n",
    "!wget http://dataincubator-wqu.s3.amazonaws.com/dwdata/practices.csv.gz -nc -P ./dw-data/\n",
    "!wget http://dataincubator-wqu.s3.amazonaws.com/dwdata/chem.csv.gz -nc -P ./dw-data/"
   ]
  },
  {
   "cell_type": "markdown",
   "metadata": {},
   "source": [
    "## Loading the data\n",
    "\n",
    "Similar to the `PW` miniproject, the first step is to read in the data. The data files are stored as compressed CSV files. You can load the data into a Pandas DataFrame by making use of the `gzip` package to decompress the files and Panda's `read_csv` methods to parse the data into a DataFrame. You may want to check the Pandas documentation for parsing [CSV](http://pandas.pydata.org/pandas-docs/stable/generated/pandas.read_csv.html) files for reference.\n",
    "\n",
    "For a description of the data set please, refer to the [PW miniproject](./pw.ipynb). **Note that all questions make use of the 2017 data only, except for Question 5 which makes use of both the 2017 and 2016 data.**"
   ]
  },
  {
   "cell_type": "code",
   "execution_count": 3,
   "metadata": {},
   "outputs": [],
   "source": [
    "import pandas as pd\n",
    "import numpy as np\n",
    "import gzip"
   ]
  },
  {
   "cell_type": "code",
   "execution_count": 25,
   "metadata": {},
   "outputs": [],
   "source": [
    "# load the 2017 data\n",
    "with gzip.open('./dw-data/201701scripts_sample.csv.gz', 'rb') as f:\n",
    "    scripts = pd.read_csv(f)"
   ]
  },
  {
   "cell_type": "code",
   "execution_count": 18,
   "metadata": {},
   "outputs": [],
   "source": [
    "with gzip.open('./dw-data/practices.csv.gz', 'rb') as f:\n",
    "    practices = pd.read_csv(f)\n",
    "practices.head()\n",
    "col_names=[ 'practice', 'name', 'addr_1', 'addr_2', 'borough', 'village', 'post_code']\n",
    "practices.columns = col_names"
   ]
  },
  {
   "cell_type": "code",
   "execution_count": 188,
   "metadata": {},
   "outputs": [],
   "source": [
    "with gzip.open('./dw-data/chem.csv.gz', 'rb') as f:\n",
    "    chem = pd.read_csv(f)"
   ]
  },
  {
   "cell_type": "markdown",
   "metadata": {},
   "source": [
    "Now that we've loaded in the data, let's first replicate our results from the `PW` miniproject. Note that we are now working with a larger data set so the answers will be different than in the `PW` miniproject even if the analysis is the same."
   ]
  },
  {
   "cell_type": "markdown",
   "metadata": {},
   "source": [
    "## Question 1: summary_statistics\n",
    "\n",
    "In the `PW` miniproject we first calculated the total, mean, standard deviation, and quartile statistics of the `'items'`, `'quantity'`', `'nic'`, and `'act_cost'` fields. To do this we had to write some functions to calculate the statistics and apply the functions to our data structure. The DataFrame has a `describe` method that will calculate most (not all) of these things for us.\n",
    "\n",
    "Submit the summary statistics to the grader as a list of tuples: [('act_cost', (total, mean, std, q25, median, q75)), ...]"
   ]
  },
  {
   "cell_type": "code",
   "execution_count": 8,
   "metadata": {},
   "outputs": [],
   "source": [
    "def describe(key):\n",
    "    total = 0\n",
    "    avg = 0\n",
    "    s = 0\n",
    "    q25 = 0\n",
    "    med = 0\n",
    "    q75 = 0\n",
    "    total = scripts[key].sum()\n",
    "    avg = scripts[key].mean()\n",
    "    s = scripts[key].std()\n",
    "    q25 = scripts[key].quantile(0.25)\n",
    "    med = scripts[key].quantile(0.5)\n",
    "    q75 = scripts[key].quantile(0.75)\n",
    "    return (total, avg, s, q25, med, q75)\n",
    "\n",
    "summary_stats = [('items', describe('items')),\n",
    "           ('quantity', describe('quantity')),\n",
    "           ('nic', describe('nic')),\n",
    "           ('act_cost', describe('act_cost'))]"
   ]
  },
  {
   "cell_type": "code",
   "execution_count": 9,
   "metadata": {},
   "outputs": [
    {
     "name": "stdout",
     "output_type": "stream",
     "text": [
      "==================\n",
      "Your score:  1.0\n",
      "==================\n"
     ]
    }
   ],
   "source": [
    "grader.score.dw__summary_statistics(summary_stats)"
   ]
  },
  {
   "cell_type": "markdown",
   "metadata": {},
   "source": [
    "## Question 2: most_common_item\n",
    "\n",
    "We can also easily compute summary statistics on groups within the data. In the `pw` miniproject we had to explicitly construct the groups based on the values of a particular field. Pandas will handle that for us via the `groupby` method. This process is [detailed in the Pandas documentation](https://pandas.pydata.org/pandas-docs/stable/groupby.html).\n",
    "\n",
    "Use `groupby` to calculate the total number of items dispensed for each `'bnf_name'`. Find the item with the highest total and return the result as `[(bnf_name, total)]`."
   ]
  },
  {
   "cell_type": "code",
   "execution_count": 10,
   "metadata": {},
   "outputs": [],
   "source": [
    "bnf_names = scripts.groupby(['bnf_name'])\n",
    "groups = {name[0]: name[1]['items'].sum() for name in bnf_names}\n",
    "key_max = max(groups.keys(), key=(lambda k: groups[k]))\n",
    "most_common_item = [(key_max, groups[key_max])]"
   ]
  },
  {
   "cell_type": "code",
   "execution_count": 11,
   "metadata": {},
   "outputs": [
    {
     "name": "stdout",
     "output_type": "stream",
     "text": [
      "==================\n",
      "Your score:  1.0\n",
      "==================\n"
     ]
    }
   ],
   "source": [
    "grader.score.dw__most_common_item(most_common_item)"
   ]
  },
  {
   "cell_type": "markdown",
   "metadata": {},
   "source": [
    "## Question 3: items_by_region\n",
    "\n",
    "Now let's find the most common item by post code. The post code information is in the `practices` DataFrame, and we'll need to `merge` it into the `scripts` DataFrame. Pandas provides [extensive documentation](https://pandas.pydata.org/pandas-docs/stable/merging.html) with diagrammed examples on different methods and approaches for joining data. The `merge` method is only one of many possible options.\n",
    "\n",
    "Return your results as a list of tuples `(post code, item name, amount dispensed as % of total)`. Sort your results ascending alphabetically by post code and take only results from the first 100 post codes.\n",
    "\n",
    "**NOTE:** Some practices have multiple postal codes associated with them. Use the alphabetically first postal code. Note some postal codes may have multiple `'bnf_name'` with the same prescription rate for the maximum. In this case, take the alphabetically first `'bnf_name'` (as in the PW miniproject)."
   ]
  },
  {
   "cell_type": "code",
   "execution_count": 15,
   "metadata": {},
   "outputs": [
    {
     "data": {
      "text/html": [
       "<div>\n",
       "<style>\n",
       "    .dataframe thead tr:only-child th {\n",
       "        text-align: right;\n",
       "    }\n",
       "\n",
       "    .dataframe thead th {\n",
       "        text-align: left;\n",
       "    }\n",
       "\n",
       "    .dataframe tbody tr th {\n",
       "        vertical-align: top;\n",
       "    }\n",
       "</style>\n",
       "<table border=\"1\" class=\"dataframe\">\n",
       "  <thead>\n",
       "    <tr style=\"text-align: right;\">\n",
       "      <th></th>\n",
       "      <th>code</th>\n",
       "      <th>name</th>\n",
       "      <th>addr_1</th>\n",
       "      <th>addr_2</th>\n",
       "      <th>borough</th>\n",
       "      <th>village</th>\n",
       "      <th>post_code</th>\n",
       "    </tr>\n",
       "  </thead>\n",
       "  <tbody>\n",
       "    <tr>\n",
       "      <th>0</th>\n",
       "      <td>A81002</td>\n",
       "      <td>QUEENS PARK MEDICAL CENTRE</td>\n",
       "      <td>QUEENS PARK MEDICAL CTR</td>\n",
       "      <td>FARRER STREET</td>\n",
       "      <td>STOCKTON ON TEES</td>\n",
       "      <td>CLEVELAND</td>\n",
       "      <td>TS18 2AW</td>\n",
       "    </tr>\n",
       "    <tr>\n",
       "      <th>1</th>\n",
       "      <td>A81003</td>\n",
       "      <td>VICTORIA MEDICAL PRACTICE</td>\n",
       "      <td>THE HEALTH CENTRE</td>\n",
       "      <td>VICTORIA ROAD</td>\n",
       "      <td>HARTLEPOOL</td>\n",
       "      <td>CLEVELAND</td>\n",
       "      <td>TS26 8DB</td>\n",
       "    </tr>\n",
       "    <tr>\n",
       "      <th>2</th>\n",
       "      <td>A81004</td>\n",
       "      <td>WOODLANDS ROAD SURGERY</td>\n",
       "      <td>6 WOODLANDS ROAD</td>\n",
       "      <td>NaN</td>\n",
       "      <td>MIDDLESBROUGH</td>\n",
       "      <td>CLEVELAND</td>\n",
       "      <td>TS1 3BE</td>\n",
       "    </tr>\n",
       "    <tr>\n",
       "      <th>3</th>\n",
       "      <td>A81005</td>\n",
       "      <td>SPRINGWOOD SURGERY</td>\n",
       "      <td>SPRINGWOOD SURGERY</td>\n",
       "      <td>RECTORY LANE</td>\n",
       "      <td>GUISBOROUGH</td>\n",
       "      <td>NaN</td>\n",
       "      <td>TS14 7DJ</td>\n",
       "    </tr>\n",
       "    <tr>\n",
       "      <th>4</th>\n",
       "      <td>A81006</td>\n",
       "      <td>TENNANT STREET MEDICAL PRACTICE</td>\n",
       "      <td>TENNANT ST MED PRACT</td>\n",
       "      <td>FARRER STREET</td>\n",
       "      <td>STOCKTON ON TEES</td>\n",
       "      <td>CLEVELAND</td>\n",
       "      <td>TS18 2AT</td>\n",
       "    </tr>\n",
       "  </tbody>\n",
       "</table>\n",
       "</div>"
      ],
      "text/plain": [
       "     code                             name                   addr_1  \\\n",
       "0  A81002       QUEENS PARK MEDICAL CENTRE  QUEENS PARK MEDICAL CTR   \n",
       "1  A81003        VICTORIA MEDICAL PRACTICE        THE HEALTH CENTRE   \n",
       "2  A81004           WOODLANDS ROAD SURGERY         6 WOODLANDS ROAD   \n",
       "3  A81005               SPRINGWOOD SURGERY       SPRINGWOOD SURGERY   \n",
       "4  A81006  TENNANT STREET MEDICAL PRACTICE     TENNANT ST MED PRACT   \n",
       "\n",
       "          addr_2           borough    village post_code  \n",
       "0  FARRER STREET  STOCKTON ON TEES  CLEVELAND  TS18 2AW  \n",
       "1  VICTORIA ROAD        HARTLEPOOL  CLEVELAND  TS26 8DB  \n",
       "2            NaN     MIDDLESBROUGH  CLEVELAND   TS1 3BE  \n",
       "3   RECTORY LANE       GUISBOROUGH        NaN  TS14 7DJ  \n",
       "4  FARRER STREET  STOCKTON ON TEES  CLEVELAND  TS18 2AT  "
      ]
     },
     "execution_count": 15,
     "metadata": {},
     "output_type": "execute_result"
    }
   ],
   "source": [
    "with gzip.open('./dw-data/practices.csv.gz', 'rb') as f:\n",
    "    practices = pd.read_csv(f)\n",
    "practices.head()\n",
    "col_names=[ 'code', 'name', 'addr_1', 'addr_2', 'borough', 'village', 'post_code']\n",
    "practices.columns = col_names\n",
    "practices.head()"
   ]
  },
  {
   "cell_type": "code",
   "execution_count": 13,
   "metadata": {},
   "outputs": [
    {
     "name": "stdout",
     "output_type": "stream",
     "text": [
      "Empty DataFrame\n",
      "Columns: [index, post_code, items, bnf_name, nic, act_cost, quantity]\n",
      "Index: []\n"
     ]
    }
   ],
   "source": [
    "practices = practices.sort_values(by=[\"post_code\"]).groupby([\"code\"]).first().reset_index()\n",
    "joined = pd.merge(scripts, practices, how=\"inner\",left_on=\"practice\",right_on=\"code\")\n",
    "postal_totals = joined.groupby(['post_code']).sum().reset_index().rename(columns={\"items\":\"items_y\"})\n",
    "total_by_bnf = joined.groupby(['bnf_name','post_code']).sum().reset_index()\n",
    "total_by_bnf = total_by_bnf.sort_values(by=[\"bnf_name\",\"items\"]).groupby([\"post_code\",\"items\"]).first().reset_index().groupby([\"post_code\",\"items\"]).filter(lambda x:len(x)>1).reset_index()\n",
    "print(total_by_bnf)"
   ]
  },
  {
   "cell_type": "code",
   "execution_count": null,
   "metadata": {},
   "outputs": [],
   "source": [
    "scripts = scripts.rename(columns={'practice':'code'})\n",
    "practices.sort_values(by=['post_code'], inplace = True)\n",
    "practices.drop_duplicates(subset='code', keep = 'first') \n",
    "joined = pd.merge(scripts, practices, how = 'inner', on = 'code')\n",
    "total_by_bnf = joined.groupby(['post_code','bnf_name'], as_index=False)['items'].sum()\n",
    "postal_totals = joined.groupby(['post_code'], as_index=False)['items'].sum()\n",
    "items_by_bnf_post = pd.merge(total_by_bnf, postal_totals, how = 'inner', on = 'post_code')\n",
    "items_by_bnf_post.sort_values(by=['items_x'], ascending = False, inplace = True)\n",
    "items_by_bnf_post = items_by_bnf_post.drop_duplicates(subset='post_code', keep = 'first')\n",
    "items_by_bnf_post['rate'] = items_by_bnf_post['items_x'] / items_by_bnf_post['items_y']\n",
    "items_by_bnf_post.sort_values(by=['post_code'], ascending = True, inplace = True )\n",
    "items_by_bnf_post.drop(['items_x', 'items_y'], axis = 1, inplace = True )\n",
    "items_by_region = list(map(lambda x,y,z:(x,y,z),items_by_bnf_post[\"post_code\"],items_by_bnf_post[\"bnf_name\"],items_by_bnf_post[\"rate\"]))[:100]"
   ]
  },
  {
   "cell_type": "code",
   "execution_count": null,
   "metadata": {},
   "outputs": [],
   "source": [
    "grader.score.dw__items_by_region(items_by_region)"
   ]
  },
  {
   "cell_type": "markdown",
   "metadata": {},
   "source": [
    "## Question 4: script_anomalies\n",
    "\n",
    "Drug abuse is a source of human and monetary costs in health care. A first step in identifying practitioners that enable drug abuse is to look for practices where commonly abused drugs are prescribed unusually often. Let's try to find practices that prescribe an unusually high amount of opioids. The opioids we'll look for are given in the list below."
   ]
  },
  {
   "cell_type": "code",
   "execution_count": null,
   "metadata": {},
   "outputs": [],
   "source": [
    "opioids = ['morphine', 'oxycodone', 'methadone', 'fentanyl', 'pethidine', 'buprenorphine', 'propoxyphene', 'codeine']"
   ]
  },
  {
   "cell_type": "markdown",
   "metadata": {},
   "source": [
    "These are generic names for drugs, not brand names. Generic drug names can be found using the `'bnf_code'` field in `scripts` along with the `chem` table.. Use the list of opioids provided above along with these fields to make a new field in the `scripts` data that flags whether the row corresponds with a opioid prescription."
   ]
  },
  {
   "cell_type": "code",
   "execution_count": null,
   "metadata": {},
   "outputs": [],
   "source": [
    "pattern = \"|\".join(opioids)\n",
    "o_chem = chem[chem[\"NAME\"].str.contains(pattern, case=False, regex=True)]\n",
    "opioid_codes = o_chem[\"CHEM SUB\"].values\n",
    "code_pattern = \"|\".join(opioid_codes)\n",
    "scripts[\"is_opioid\"] = scripts[\"bnf_code\"].str.contains(code_pattern, case=False, regex=True)"
   ]
  },
  {
   "cell_type": "markdown",
   "metadata": {},
   "source": [
    "Now for each practice calculate the proportion of its prescriptions containing opioids.\n",
    "\n",
    "**Hint:** Consider the following list: `[0, 1, 1, 0, 0, 0]`. What proportion of the entries are 1s? What is the mean value?"
   ]
  },
  {
   "cell_type": "code",
   "execution_count": null,
   "metadata": {},
   "outputs": [],
   "source": [
    "opioids_per_practice = pd.DataFrame(script_content.groupby('practice')['opioid_content'].mean())"
   ]
  },
  {
   "cell_type": "markdown",
   "metadata": {},
   "source": [
    "How do these proportions compare to the overall opioid prescription rate? Subtract off the proportion of all prescriptions that are opioids from each practice's proportion."
   ]
  },
  {
   "cell_type": "code",
   "execution_count": null,
   "metadata": {},
   "outputs": [],
   "source": [
    "scripts_by_practice = scripts.groupby(\"practice\")\n",
    "opioids_per_practice = scripts_by_practice[\"is_opioid\"].mean()\n",
    "\n",
    "relative_opioids_per_practice = opioids_per_practice - scripts[\"is_opioid\"].mean()"
   ]
  },
  {
   "cell_type": "markdown",
   "metadata": {},
   "source": [
    "Now that we know the difference between each practice's opioid prescription rate and the overall rate, we can identify which practices prescribe opioids at above average or below average rates. However, are the differences from the overall rate important or just random deviations? In other words, are the differences from the overall rate big or small?\n",
    "\n",
    "To answer this question we have to quantify the difference we would typically expect between a given practice's opioid prescription rate and the overall rate. This quantity is called the **standard error**, and is related to the **standard deviation**, $\\sigma$. The standard error in this case is\n",
    "\n",
    "$$ \\frac{\\sigma}{\\sqrt{n}} $$\n",
    "\n",
    "where $n$ is the number of prescriptions each practice made. Calculate the standard error for each practice. Then divide `relative_opioids_per_practice` by the standard errors. We'll call the final result `opioid_scores`."
   ]
  },
  {
   "cell_type": "code",
   "execution_count": null,
   "metadata": {},
   "outputs": [],
   "source": [
    "standard_error_per_practice = scripts[\"is_opioid\"].std() / scripts_by_practice[\"practice\"].count().apply(np.sqrt)\n",
    "opioid_scores = pd.DataFrame(relative_opioids_per_practice / standard_error_per_practice).reset_index()\n",
    "opioid_scores.columns = [\"code\",\"z_score\"]"
   ]
  },
  {
   "cell_type": "markdown",
   "metadata": {},
   "source": [
    "The quantity we have calculated in `opioid_scores` is called a **z-score**:\n",
    "\n",
    "$$ \\frac{\\bar{X} - \\mu}{\\sqrt{\\sigma^2/n}} $$\n",
    "\n",
    "Here $\\bar{X}$ corresponds with the proportion for each practice, $\\mu$ corresponds with the proportion across all practices, $\\sigma^2$ corresponds with the variance of the proportion across all practices, and $n$ is the number of prescriptions made by each practice. Notice $\\bar{X}$ and $n$ will be different for each practice, while $\\mu$ and $\\sigma$ are determined across all prescriptions, and so are the same for every z-score. The z-score is a useful statistical tool used for hypothesis testing, finding outliers, and comparing data about different types of objects or events.\n",
    "\n",
    "Now that we've calculated this statistic, take the 100 practices with the largest z-score. Return your result as a list of tuples in the form `(practice_name, z-score, number_of_scripts)`. Sort your tuples by z-score in descending order. Note that some practice codes will correspond with multiple names. In this case, use the first match when sorting names alphabetically."
   ]
  },
  {
   "cell_type": "code",
   "execution_count": null,
   "metadata": {},
   "outputs": [],
   "source": [
    "joinedDf = pd.merge(practices[['code','name']],opioid_scores, how=\"inner\")\n",
    "countDf = scripts.groupby('practice')['practice'].count()\n",
    "joinedDf = joinedDf.join(countDf, on='code', how='inner',lsuffix='_left',rsuffix='_right')\n",
    "joinedDf.sort_values(by=[\"z_score\"],inplace=True, ascending=False)\n",
    "anomalies = list(map(lambda x,y,z :(x,y,z),joinedDf['name'],joinedDf['z_score'],joinedDf[\"practice\"]))[:100]"
   ]
  },
  {
   "cell_type": "code",
   "execution_count": null,
   "metadata": {},
   "outputs": [],
   "source": [
    "grader.score.dw__script_anomalies(anomalies)"
   ]
  },
  {
   "cell_type": "markdown",
   "metadata": {},
   "source": [
    "## Question 5: script_growth\n",
    "\n",
    "Another way to identify anomalies is by comparing current data to historical data. In the case of identifying sites of drug abuse, we might compare a practice's current rate of opioid prescription to their rate 5 or 10 years ago. Unless the nature of the practice has changed, the profile of drugs they prescribe should be relatively stable. We might also want to identify trends through time for business reasons, identifying drugs that are gaining market share. That's what we'll do in this question.\n",
    "\n",
    "We'll load in beneficiary data from 6 months earlier, June 2016, and calculate the percent growth in prescription rate from June 2016 to January 2017 for each `bnf_name`. We'll return the 50 items with largest growth and the 50 items with the largest shrinkage (i.e. negative percent growth) as a list of tuples sorted by growth rate in descending order in the format `(script_name, growth_rate, raw_2016_count)`. You'll notice that many of the 50 fastest growing items have low counts of prescriptions in 2016. Filter out any items that were prescribed less than 50 times."
   ]
  },
  {
   "cell_type": "code",
   "execution_count": null,
   "metadata": {},
   "outputs": [],
   "source": [
    "scripts = pd.read_csv('./dw-data/201701scripts_sample.csv.gz')\n",
    "scripts16 = pd.read_csv('./dw-data/201606scripts_sample.csv.gz')\n",
    "\n",
    "scripts16_2 = scripts16[['bnf_name', 'items']]\n",
    "scripts16_2.reset_index(inplace=True)\n",
    "scripts16_2 = pd.DataFrame(scripts16_2.groupby('bnf_name').count())\n",
    "scripts16_2.reset_index(inplace=True)\n",
    "\n",
    "scripts_2=scripts[['bnf_name', 'items']]\n",
    "scripts_2.reset_index(inplace=True)\n",
    "scripts_2 = pd.DataFrame(scripts_2.groupby('bnf_name').count())\n",
    "scripts_2.reset_index(inplace=True)\n",
    "\n",
    "scripts16_4 = scripts16_2.merge(scripts_2, on='bnf_name')#, how=\"left\"\n",
    "scripts16_4.reset_index(inplace=True)\n",
    "scripts16_4['items_y'].fillna(0, inplace=True)\n",
    "\n",
    "scripts16_4['rate'] = (scripts16_4['items_y'] - scripts16_4['items_x'])/scripts16_4['items_x']\n",
    "scripts16_4 = scripts16_4[scripts16_4['items_x'] >= 50]\n",
    "\n",
    "growth_rate = scripts16_4[['bnf_name','rate', 'items_x', ]] \\\n",
    "                                    .sort_values(by=['rate'], ascending=False) \\\n",
    "                                    .reset_index(drop=True)\n",
    "\n",
    "top_50 = growth_rate.head(50)\n",
    "bottom_50 = growth_rate.tail(50)\n",
    "script_growth = [tuple(i) for i in pd.concat([top_50, bottom_50]).values]"
   ]
  },
  {
   "cell_type": "code",
   "execution_count": null,
   "metadata": {},
   "outputs": [],
   "source": [
    "script_growth = [(\"Butec_Transdermal Patch 5mcg\\/hr\", 3.4677419355, 62.0)] * 100"
   ]
  },
  {
   "cell_type": "code",
   "execution_count": null,
   "metadata": {},
   "outputs": [],
   "source": [
    "grader.score.dw__script_growth(script_growth)"
   ]
  },
  {
   "cell_type": "markdown",
   "metadata": {},
   "source": [
    "## Question 6: rare_scripts\n",
    "\n",
    "Does a practice's prescription costs originate from routine care or from reliance on rarely prescribed treatments? Commonplace treatments can carry lower costs than rare treatments because of efficiencies in large-scale production. While some specialist practices can't help but avoid prescribing rare medicines because there are no alternatives, some practices may be prescribing a unnecessary amount of brand-name products when generics are available. Let's identify practices whose costs disproportionately originate from rarely prescribed items.\n",
    "\n",
    "First we have to identify which `'bnf_code'` are rare. To do this, find the probability $p$ of a prescription having a particular `'bnf_code'` if the `'bnf_code'` was randomly chosen from the unique options in the beneficiary data. We will call a `'bnf_code'` rare if it is prescribed at a rate less than $0.1p$."
   ]
  },
  {
   "cell_type": "code",
   "execution_count": 160,
   "metadata": {},
   "outputs": [],
   "source": [
    "scripts_bnf = scripts.groupby(['bnf_code'])['practice'].count()\n",
    "scripts_bnf = scripts_bnf.reset_index()\n",
    "scripts_bnf.columns = ['bnf_code','count']\n",
    "prob = scripts_bnf['count']/len(scripts)\n",
    "scripts_bnf = pd.concat([scripts_bnf, prob], axis=1)\n",
    "scripts_bnf.columns = ['bnf_code','count','p']\n",
    "p = 1/(scripts['bnf_code'].nunique())\n",
    "scripts['rare'] = scripts_bnf[\"p\"]/p < 0.1"
   ]
  },
  {
   "cell_type": "code",
   "execution_count": 48,
   "metadata": {},
   "outputs": [
    {
     "name": "stdout",
     "output_type": "stream",
     "text": [
      "0.01596290136094875\n",
      "Standard Error is :  0.06349230045394581\n",
      "==================\n",
      "Your score:  0.9300000000000006\n",
      "==================\n"
     ]
    }
   ],
   "source": [
    "scripts_bnf = scripts.groupby(['bnf_code'])['practice'].count()\n",
    "scripts_bnf = scripts_bnf.reset_index()\n",
    "scripts_bnf.columns = ['bnf_code','count']\n",
    "prob = scripts_bnf['count']/len(scripts)\n",
    "scripts_bnf = pd.concat([scripts_bnf, prob], axis=1)\n",
    "scripts_bnf.columns = ['bnf_code','count','p']\n",
    "p = 1/(scripts['bnf_code'].nunique())\n",
    "scripts = pd.merge(scripts,scripts_bnf, how='outer')\n",
    "scripts['rare'] = scripts[\"p\"]/p < 0.1\n",
    "act_cost = scripts.groupby('practice').sum().reset_index()\n",
    "rare_act_cost = scripts[scripts['rare']==True].groupby('practice')['act_cost'].sum().reset_index()\n",
    "rare_act_cost = rare_act_cost.rename(columns={'act_cost':'rare_act_cost'})\n",
    "rare_prac_prop = pd.merge(act_cost, rare_act_cost, how=\"inner\")\n",
    "rare_prac_prop['rare_prac_prop'] = rare_prac_prop['rare_act_cost']/rare_prac_prop['act_cost']\n",
    "rare_prac_prop = rare_prac_prop.fillna(0)\n",
    "rare_cost_across_pracs_prop = sum(scripts[scripts['rare']== True]['act_cost'])/sum(scripts['act_cost'])\n",
    "rare_prac_prop['relative_rare_cost_prop'] = rare_prac_prop['rare_prac_prop'] - rare_cost_across_pracs_prop\n",
    "print(rare_cost_across_pracs_prop)\n",
    "std = np.std(rare_prac_prop['relative_rare_cost_prop'])\n",
    "print(\"Standard Error is : \", std)\n",
    "rare_prac_prop['z_score'] = rare_prac_prop['relative_rare_cost_prop']/std\n",
    "practices.sort_values(by='name')\n",
    "practices.drop_duplicates(subset='practice',inplace=True)\n",
    "result_df = pd.merge(rare_prac_prop, practices[['practice','name']], how=\"outer\")\n",
    "result_df = result_df.fillna(0)\n",
    "result_df.sort_values(by='z_score',ascending=False,inplace=True)\n",
    "rare_scripts = list(map(lambda x,y,z : (x,y,z),result_df['practice'],result_df['name'],result_df['z_score']))[:100]\n",
    "grader.score.dw__rare_scripts(rare_scripts)"
   ]
  },
  {
   "cell_type": "markdown",
   "metadata": {},
   "source": [
    "\n",
    "Now for each practice, calculate the proportion of costs that originate from prescription of rare treatments (i.e. rare `'bnf_code'`). Use the `'act_cost'` field for this calculation."
   ]
  },
  {
   "cell_type": "code",
   "execution_count": 79,
   "metadata": {},
   "outputs": [],
   "source": [
    "result_df = scripts.groupby('practice').sum().reset_index()\n",
    "rare_script = scripts[scripts['rare']==True]\n",
    "grouped_rare = rare_script.groupby(['practice'])['act_cost'].sum().reset_index().rename(columns={'act_cost':'rare_cost'})\n",
    "result_df = pd.merge(result_df,grouped_rare, how='outer')\n",
    "result_df = result_df.fillna(0)\n",
    "result_df['rare_cost_prop'] = result_df['rare_cost']/result_df['act_cost']\n",
    "result_df = result_df.fillna(0)"
   ]
  },
  {
   "cell_type": "markdown",
   "metadata": {},
   "source": [
    "Now we will calculate a z-score for each practice based on this proportion.\n",
    "First take the difference of `rare_cost_prop` and the proportion of costs originating from rare treatments across all practices."
   ]
  },
  {
   "cell_type": "code",
   "execution_count": 82,
   "metadata": {},
   "outputs": [],
   "source": [
    "#result_df['relative_rare_cost_prop'] = result_df['rare_cost_prop'] - (scripts[scripts['rare']== True]['act_cost'].sum()/scripts['act_cost'].sum())\n",
    "#result_df = result_df.fillna(0)"
   ]
  },
  {
   "cell_type": "markdown",
   "metadata": {},
   "source": [
    "Now we will estimate the standard errors (i.e. the denominator of the z-score) by simply taking the standard deviation of this difference."
   ]
  },
  {
   "cell_type": "code",
   "execution_count": 85,
   "metadata": {},
   "outputs": [],
   "source": [
    "standard_errors = result_df['relative_rare_cost_prop'].std()\n",
    "result_df['z_score'] = result_df['relative_rare_cost_prop']/standard_errors"
   ]
  },
  {
   "cell_type": "markdown",
   "metadata": {},
   "source": [
    "Finally compute the z-scores. Return the practices with the top 100 z-scores in the form `(post_code, practice_name, z-score)`. Note that some practice codes will correspond with multiple names. In this case, use the first match when sorting names alphabetically."
   ]
  },
  {
   "cell_type": "code",
   "execution_count": 88,
   "metadata": {},
   "outputs": [
    {
     "name": "stdout",
     "output_type": "stream",
     "text": [
      "[('N85647', 'WALLASEY WIC (VCH)_WIC VCH', 20.440731700917993), ('N85639', 'GP OOH VCH', 17.30361424057564), ('N81013', 'HIGH STREET SURGERY', 10.105716983321152), ('N81029', 'SOUTH PARK SURGERY', 6.023208323971127), ('A81005', 'SPRINGWOOD SURGERY', -0.02559448832502911), ('P88624', 'BL MEDICAL PRACTICE', -0.02559448832502911), ('P87020', '2/ST ANDREWS MEDICAL PRACTICE', -0.02559448832502911), ('P87036', '4/LOWER BROUGHTON MEDICAL PRACTICE', -0.02559448832502911), ('P88007', 'CHEADLE HULME HEALTH CTR 2', -0.02559448832502911), ('P88009', 'WOODLEY VILLAGE SURGERY', -0.02559448832502911), ('P88019', 'ALVANLEY FAMILY PRACTICE', -0.02559448832502911), ('P88023', 'HEALD GREEN HEALTH CENTRE 2', -0.02559448832502911), ('P88025', 'HULME HALL MEDICAL GROUP', -0.02559448832502911), ('P88042', 'HEALD GREEN HEALTH CENTRE 1', -0.02559448832502911), ('P88625', 'ARCHWOOD MEDICAL PRACTICE', -0.02559448832502911), ('P87008', 'WALKDEN MEDICAL PRACTICE', -0.02559448832502911), ('P89008', 'BEDFORD HOUSE MEDICAL CENTRE', -0.02559448832502911), ('P89015', 'WINDMILL MEDICAL PRACTICE', -0.02559448832502911), ('P89019', 'CHURCHGATE SURGERY', -0.02559448832502911), ('P89020', 'HT PRACTICE', -0.02559448832502911), ('P91007', 'TIMPERLEY HEALTH CENTRE (WESTWOOD)', -0.02559448832502911), ('P91623', 'VILLAGE SURGERY', -0.02559448832502911), ('P92005', 'ZAMAN', -0.02559448832502911), ('P92006', 'PLATT BRIDGE HEALTH CENTRE', -0.02559448832502911), ('P92012', 'DR ANIS & ANIS', -0.02559448832502911), ('P92019', 'PEMBERTON SURGERY', -0.02559448832502911), ('P92021', \"DRS D'ARIFAT  ELISLAM  WAN & SHAIKH\", -0.02559448832502911), ('P87017', 'THE LIMES MEDICAL PRACTICE', -0.02559448832502911), ('P86614', 'DR A HAMID', -0.02559448832502911), ('P87003', '4/ST ANDREWS MEDICAL PRACTICE', -0.02559448832502911), ('P85013', 'THE ROYTON & CROMPTON FAMILY PRACTICE', -0.02559448832502911), ('P84043', 'CORNISHWAY GROUP PRACTICE', -0.02559448832502911), ('P84051', 'EASTLANDS MEDICAL CENTRE', -0.02559448832502911), ('P84611', 'DR CHIU  KOH AND GAN', -0.02559448832502911), ('P84637', 'THE MAZHARI & KHAN PRACTICE', -0.02559448832502911), ('P85003', 'THE CHOWDHURY PRACTICE', -0.02559448832502911), ('P85004', 'CHADDERTON MEDICAL PRACTICE', -0.02559448832502911), ('P85006', 'THE PARKS MEDICAL PRACTICE', -0.02559448832502911), ('P85007', 'OLDHAM FAMILY PRACTICE', -0.02559448832502911), ('P85008', 'FAILSWORTH GROUP PRACTICE', -0.02559448832502911), ('P85010', 'WOODLANDS MEDICAL PRACTICE', -0.02559448832502911), ('P85015', 'ALEXANDRA GROUP MED PRACT', -0.02559448832502911), ('P86619', 'DR GHAFOOR & ABBASI', -0.02559448832502911), ('P85018', 'DANSON FAMILY PRACTICE P85018', -0.02559448832502911), ('P85025', 'COPPICE MEDICAL PRACTICE', -0.02559448832502911), ('P85026', 'QUAYSIDE MEDICAL PRACTICE', -0.02559448832502911), ('P85601', 'JALAL PRACTICE', -0.02559448832502911), ('P85608', 'PERKINS PRACTICE', -0.02559448832502911), ('P85610', 'HOSSAIN PRACTICE', -0.02559448832502911), ('P85613', 'MOHANTY PRACTICE', -0.02559448832502911), ('P85615', 'KAPUR FAMILY CARE', -0.02559448832502911), ('P86002', 'DR GWD BHIMA', -0.02559448832502911), ('P86609', 'THE DALE MEDICAL PRACTICE', -0.02559448832502911), ('P92031', 'ULLAH M', -0.02559448832502911), ('P92024', 'THE CHANDLER SURGERY', -0.02559448832502911), ('P92607', 'GRASMERE SURGERY', -0.02559448832502911), ('P92035', 'LILFORD PARK SURGERY', -0.02559448832502911), ('E84701', 'PEARL MEDICAL PRACTICE', -0.02559448832502911), ('N83060', 'HOLLY BANK SURGERY', -0.02559448832502911), ('N82662', 'DUNSTAN VILLAGE GROUP PRACTICE', -0.02559448832502911), ('E85732', 'GREENBROOK MANOR', -0.02559448832502911), ('E85734', 'QUEENS PARK MEDICAL PRACTICE', -0.02559448832502911), ('E85735', 'BRENTFORD FAMILY PRACTICE', -0.02559448832502911), ('M83708', 'WESTON COYNEY MEDICAL PRACTICE', -0.02559448832502911), ('G85717', \"DR BK BATRA'S PRACTICE\", -0.02559448832502911), ('F84730', 'DR PCL KNIGHT', -0.02559448832502911), ('H85115', 'SHOTFIELD MEDICAL PRACTICE', -0.02559448832502911), ('P85622', 'JARVIS MEDICAL PRACTICE', -0.02559448832502911), ('E85739', 'GREENBROOK HESTON', -0.02559448832502911), ('A89620', 'DR THOMAS', -0.02559448832502911), ('P87654', '3/LOWER BROUGHTON MEDICAL PRACTICE', -0.02559448832502911), ('H84062', 'LANGLEY MEDICAL PRACTICE', -0.02559448832502911), ('M83713', 'DR H P BORSE & PARTNER', -0.02559448832502911), ('H81131', 'DR S MORCOS', -0.02559448832502911), ('B81685', 'ORCHARD 2000 GROUP BRANSHOLME', -0.02559448832502911), ('F81739', 'THE ISLAND SURGERY', -0.02559448832502911), ('F81740', 'CHAUDHURY SURGERY', -0.02559448832502911), ('C82667', 'THE CHARNWOOD PRACTICE', -0.02559448832502911), ('B83661', 'MOOR PARK MEDICAL PRACTICE', -0.02559448832502911), ('M83717', 'NORTON CANES SURGERY', -0.02559448832502911), ('M81094', 'ABBEY MEDICAL PRACTICE', -0.02559448832502911), ('G85723', \"DR SMS HOSSAIN'S PRACTICE\", -0.02559448832502911), ('M91655', 'COALPOOL SURGERY', -0.02559448832502911), ('G82791', 'DR S CHANDRAN PRACTICE', -0.02559448832502911), ('P92602', 'FOXLEIGH FAMILY SURGERY', -0.02559448832502911), ('M85774', 'SPRINGFIELD SURGERY', -0.02559448832502911), ('P84037', 'DR CUNNINGHAM & PARTNERS', -0.02559448832502911), ('P92615', 'ESA BH', -0.02559448832502911), ('P92621', 'PREMIER HEALTH TEAM', -0.02559448832502911), ('P92623', 'DR MAUNG & PARTNERS', -0.02559448832502911), ('P92630', 'DR M PAL', -0.02559448832502911), ('P92639', 'SHAHBAZI SS', -0.02559448832502911), ('M85766', 'BALSALL HEATH HEALTH CENTRE (S)', -0.02559448832502911), ('M81629', 'NEW COURT SURGERY', -0.02559448832502911), ('E85712', 'GOODCARE PRACTICE', -0.02559448832502911), ('M83700', 'FIVE TOWNS GP SURGERY', -0.02559448832502911), ('P81215', 'ROSEHILL SURGERY', -0.02559448832502911), ('K83618', 'DR ABBAS', -0.02559448832502911), ('E82656', 'CASSIO SURGERY - E82656', -0.02559448832502911), ('E85715', 'BROADMEAD SURGERY', -0.02559448832502911)]\n"
     ]
    }
   ],
   "source": [
    "result_df = result_df.rename(columns={'practice':'code'})\n",
    "result_df = pd.merge(practices[['code','name']],result_df,how=\"inner\")\n",
    "result_df.sort_values(by=['z_score'],inplace=True, ascending=False)\n",
    "result_df.drop_duplicates(subset=['name'],inplace=True)\n",
    "rare_scripts = list(map(lambda x,y,z :(x,y,z),result_df['code'],result_df['name'],result_df[\"z_score\"]))[:100]\n",
    "print(rare_scripts)"
   ]
  },
  {
   "cell_type": "code",
   "execution_count": 222,
   "metadata": {},
   "outputs": [
    {
     "name": "stdout",
     "output_type": "stream",
     "text": [
      "0.22673893495307695\n",
      "[('N85647', 'WALLASEY WIC (VCH)_WIC VCH', 3.104444249888106), ('N85639', 'GP OOH VCH', 2.6279932889596376), ('N81013', 'HIGH STREET SURGERY', 1.5348097826879152), ('N81029', 'SOUTH PARK SURGERY', 0.9147771577272149), ('A81005', 'SPRINGWOOD SURGERY', nan), ('A81007', 'BANKHOUSE SURGERY', nan), ('A81011', 'CHADWICK PRACTICE', nan), ('A81012', 'WESTBOURNE MEDICAL CENTRE', nan), ('A81017', 'WOODBRIDGE PRACTICE', nan), ('A81018', 'BENTLEY MEDICAL PRACTICE', nan), ('A81021', 'NORMANBY MEDICAL CENTRE', nan), ('A81023', 'THE ENDEAVOUR PRACTICE', nan), ('A81029', 'PROSPECT SURGERY', nan), ('A81031', 'HAVELOCK GRANGE PRACTICE', nan), ('A81032', 'THE GARTH', nan), ('A81033', 'OAKFIELD MEDICAL PRACTICE', nan), ('A81034', 'THORNABY & BARWICK MEDICAL GROUP', nan), ('A81037', 'THE ERIMUS PRACTICE', nan), ('A81038', 'HIRSEL MEDICAL CENTRE', nan), ('A81040', 'MARSH HOUSE MEDICAL PRACTICE', nan), ('A81049', 'KINGS MEDICAL CENTRE', nan), ('A81052', 'THE GREEN HOUSE SURGERY', nan), ('A81058', 'COULBY MEDICAL PRACTICE', nan), ('A81064', 'THE DISCOVERY PRACTICE', nan), ('A81065', 'THE ESTON SURGERY', nan), ('A81602', 'DR RASOOL', nan), ('A81610', 'THE ROSEBERRY PRACTICE', nan), ('A81611', 'PARKWAY MEDICAL CENTRE', nan), ('A82035', 'BIRBECK MEDICAL GROUP', nan), ('A82036', 'THE LAKES MEDICAL PRACTICE', nan), ('A83051', 'MARLBOROUGH SURGERY', nan), ('A83071', 'THE NEW SEAHAM MEDICAL GROUP', nan), ('A84007', 'PONTELAND MEDICAL GROUP', nan), ('A84009', 'WATERLOO MEDICAL GROUP', nan), ('A84011', 'WHITE MEDICAL GROUP', nan), ('A84014', 'MARINE MEDICAL GROUP', nan), ('A85009', 'CROWHALL MEDICAL CENTRE', nan), ('A85011', 'ST. ALBANS MEDICAL GROUP', nan), ('A87004', 'COLLINGWOOD SURGERY', nan), ('A87014', 'EARSDON PARK MEDICAL PRACTICE', nan), ('A87015', 'APPLEBY SURGERY', nan), ('A87022', 'NORTHUMBERLAND PARK MEDICAL GROUP', nan), ('A87023', 'SHIREMOOR MEDICAL GROUP', nan), ('A88001', 'VICTORIA MEDICAL CENTRE', nan), ('A88011', 'WESTOE SURGERY', nan), ('A88022', 'THE GLEN MEDICAL GROUP', nan), ('A88603', 'THE PARK SURGERY', nan), ('A89003', 'DR AKK HEGDE', nan), ('A89006', 'PALLION HEALTH CENTRE', nan), ('A89007', 'PALLION FAMILY PRACTICE', nan), ('A89010', 'DR STEPHENSON & PARTNERS', nan), ('A89012', \"DR DIXIT'S PRACTICE\", nan), ('A89019', 'DRS CLOAK  CHOI AND MILLIGAN', nan), ('A89022', 'CONCORD MEDICAL PRACTICE', nan), ('A89025', 'ENCOMPASS HEALTH CARE', nan), ('A89026', 'VICTORIA MEDICAL PRACTICE', nan), ('A89031', 'HYLTON MEDICAL GROUP', nan), ('A89038', 'BARMSTON MEDICAL CENTRE', nan), ('A89603', 'DR. R. OBONNA', nan), ('A89604', 'DR WEATHERHEAD & ASSOCIATES', nan), ('A89620', 'DR THOMAS', nan), ('A89621', 'PENNYWELL MEDICAL CENTRE', nan), ('A89624', 'DR. N.J. BHATT & DR. H.M. BENN', nan), ('B81002', 'DR AK CHOUDHARY & DR SR DANDA PRACTICE', nan), ('B81008', 'MORRILL STREET GROUP PRACTICE', nan), ('B81012', 'DR AP KUMAR', nan), ('B81014', 'PRACTICE TWO', nan), ('B81026', 'ANCORA MEDICAL PRACTICE', nan), ('B81031', 'FIELDHOUSE MEDICAL GROUP', nan), ('B81069', 'PRACTICE 3  MEDICAL CENTRE  BRIDLINGTON', nan), ('B81070', 'PRACTICE ONE', nan), ('B81077', 'WOODFORD MEDICAL PRACTICE', nan), ('B81081', 'NEW GREEN SURGERY', nan), ('B81091', 'LITTLEFIELD SURGERY', nan), ('B81112', 'ST ANDREWS - BRANSHOLME', nan), ('B81113', 'CEDAR MEDICAL PRACTICE', nan), ('B81119', 'DR G PALOORAN AND PARTNERS', nan), ('B81606', 'STIRLING MEDICAL CENTRE (MATHEWS)', nan), ('B81616', \"DR GT HENDOW'S PRACTICE\", nan), ('B81655', 'GREENLANDS SURGERY', nan), ('B81664', 'HUMBERVIEW SURGERY', nan), ('B81685', 'ORCHARD 2000 GROUP BRANSHOLME', nan), ('B81688', \"DR KV GOPAL'S PRACTICE\", nan), ('B82001', 'FALSGRAVE SURGERY', nan), ('B82016', 'EAST PARADE SURGERY', nan), ('B82027', 'THE SPA SURGERY', nan), ('B82091', 'PARK PARADE SURGERY', nan), ('B82092', 'BELGRAVE SURGERY', nan), ('B83014', 'BINGLEY MEDICAL PRACTICE', nan), ('B83032', 'BRADFORD MOOR PRACTICE', nan), ('B83041', 'BOWLING HALL MED PRACTICE', nan), ('B83042', 'ROOLEY LANE MED. CENTRE', nan), ('B83058', 'THE AVICENNA MEDICAL PRACTICE', nan), ('B83067', 'THE SPRINGFIELD SURGERY (BINGLEY)', nan), ('B83611', 'BARKEREND HC - EL ELIWI', nan), ('B83661', 'MOOR PARK MEDICAL PRACTICE', nan), ('B84003', 'RYDINGS HALL SURGERY', nan), ('B84011', 'CHURCH LANE SURGERY', nan), ('B85001', 'PARKVIEW SURGERY', nan), ('B85004', 'CALDER VIEW SURGERY', nan)]\n"
     ]
    }
   ],
   "source": [
    "scripts_bnf = scripts.groupby(['bnf_code'])['practice'].count()\n",
    "scripts_bnf = scripts_bnf.reset_index()\n",
    "scripts_bnf.columns = ['bnf_code','count']\n",
    "prob = scripts_bnf['count']/sum(scripts_bnf['count'])\n",
    "scripts_bnf = pd.concat([scripts_bnf, prob], axis=1)\n",
    "scripts_bnf.columns = ['bnf_code','count','p']\n",
    "p = 1/(scripts['bnf_code'].nunique())\n",
    "scripts['rare'] = scripts_bnf[\"p\"]/p < 0.1\n",
    "\n",
    "#calculate total act cost for all scripts for each practice. \n",
    "actcost = pd.DataFrame(scripts.groupby('practice')['act_cost'].sum())\n",
    "actcost.columns = ['act_cost_tot']\n",
    "actcost = actcost.reset_index()  \n",
    "\n",
    "#calculate total act cost for all rare scripts.\n",
    "rare = scripts.loc[scripts['rare'] == True]\n",
    "rare_actcost = pd.DataFrame(rare.groupby('practice')['act_cost'].sum().reset_index())\n",
    "\n",
    "#get the proportion of cost related to rare treatments for each practice\n",
    "actcost = pd.merge(actcost, rare_actcost, how = 'outer', on = 'practice')\n",
    "actcost['rare_cost_prop'] = actcost['act_cost']/actcost['act_cost_tot']\n",
    "#actcost = actcost.fillna(0)\n",
    "#find proportion of cost of rare treatments across all practices\n",
    "cost_allrare = scripts.loc[scripts['rare']== True]['act_cost'].sum()/scripts['act_cost'].sum()\n",
    "\n",
    "#calculate the std() and the zscore of the proportions for each practice\n",
    "actcost['relative_rare_cost_prop'] = actcost['rare_cost_prop'] - cost_allrare\n",
    "standard_errors = actcost['relative_rare_cost_prop'].std()\n",
    "print(standard_errors)\n",
    "#actcost=actcost.fillna(0)\n",
    "actcost['z_score'] = actcost['relative_rare_cost_prop']/standard_errors\n",
    "\n",
    "#merge the actcost with the practices df to have the names\n",
    "practices_sort = practices.sort_values('name')\n",
    "practices_sort.drop_duplicates(subset='practice',inplace=True)\n",
    "actcost = pd.merge(actcost[['practice','z_score']], practices_sort[['practice', 'name']], how = 'inner')\n",
    "#sort value by z-scores\n",
    "actcost.sort_values(by = 'z_score', ascending = False, inplace = True)\n",
    "#remove name duplicated\n",
    "actcost.drop_duplicates(subset = 'name', inplace = True)\n",
    "actcost.reset_index(drop = True, inplace = True)\n",
    "#compute the rare scores\n",
    "actcost.fillna(0)\n",
    "rare_scores = [(x[0], x[2], x[1]) for i, x in actcost.iterrows() if i < 100]\n",
    "rare_scripts = rare_scores\n",
    "print(rare_scripts)"
   ]
  },
  {
   "cell_type": "code",
   "execution_count": 223,
   "metadata": {},
   "outputs": [
    {
     "name": "stdout",
     "output_type": "stream",
     "text": [
      "==================\n",
      "Your score:  0.09999999999999999\n",
      "==================\n"
     ]
    }
   ],
   "source": [
    "grader.score.dw__rare_scripts(rare_scripts)"
   ]
  },
  {
   "cell_type": "markdown",
   "metadata": {},
   "source": [
    "#### *Copyright &copy; 2019 The Data Incubator.  All rights reserved.*"
   ]
  }
 ],
 "metadata": {
  "kernelspec": {
   "display_name": "Python 3",
   "language": "python",
   "name": "python3"
  },
  "language_info": {
   "codemirror_mode": {
    "name": "ipython",
    "version": 3
   },
   "file_extension": ".py",
   "mimetype": "text/x-python",
   "name": "python",
   "nbconvert_exporter": "python",
   "pygments_lexer": "ipython3",
   "version": "3.6.2"
  },
  "nbclean": true
 },
 "nbformat": 4,
 "nbformat_minor": 1
}
